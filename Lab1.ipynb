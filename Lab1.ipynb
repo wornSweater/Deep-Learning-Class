{
  "nbformat": 4,
  "nbformat_minor": 0,
  "metadata": {
    "colab": {
      "provenance": [],
      "gpuType": "T4"
    },
    "kernelspec": {
      "name": "python3",
      "display_name": "Python 3"
    },
    "language_info": {
      "name": "python"
    },
    "accelerator": "GPU"
  },
  "cells": [
    {
      "cell_type": "markdown",
      "source": [
        "#**Lab 1**\n",
        "\n",
        "TI3155TU Deep Learning (2023 - 2024)\n",
        "\n",
        "Authors: Aleksandar Shokolarow, Jan Warchocki, Elena Congeduti\n",
        "\n",
        "Revision: Karol Dobiczek"
      ],
      "metadata": {
        "id": "nVCW6YSA4jSH"
      }
    },
    {
      "cell_type": "markdown",
      "metadata": {
        "id": "7rSnXZSgqpfk"
      },
      "source": [
        "# Instructions\n",
        "We highly recommend to work at these labs on Google Colab by saving a copy on your Google Drive (`File` $\\rightarrow$ `Save a copy in Drive`) or on Kaggle by downloading this lab as .ipynb file (`File` $\\rightarrow$ `Download .ipynb`) and import it into a new Kaggle Notebook.\n",
        "\n",
        "To work locally, you need to download the lab and configure your virtual environment.\n",
        "\n",
        "Check the [Lab Instructions](https://brightspace.tudelft.nl/d2l/common/dialogs/quickLink/quickLink.d2l?ou={orgUnitId}&type=content&rcode=tudelft-1344559Instructions) on Brightspace for detailed information on Kaggle set up and virtual environment configuration for local exectuion.\n",
        "\n",
        "These labs include programming exercises and insight questions.\n",
        "\n",
        "Follow the instructions in the notebook: fill in the text blocks to answer the questions and write your own code to solve the programming tasks within the designated part of the code blocks:\n",
        "```python\n",
        "#############################################################################\n",
        "#                           START OF YOUR CODE                              #\n",
        "#############################################################################\n",
        "\n",
        "\n",
        "#############################################################################\n",
        "#                            END OF YOUR CODE                               #\n",
        "#############################################################################\n",
        "```\n",
        "\n",
        "Solutions will be shared one week after the labs are published.\n",
        "\n",
        "Note that these labs are designed for practice and are therefore **ungraded**.\n",
        "\n",
        "**For these labs, you can use only basic tensor operators from the `torch` module unless otherwise specified. Therefore avoid using `torch.nn.F`, `torch.nn.Sequential` or other advanced modules.**"
      ]
    },
    {
      "cell_type": "markdown",
      "source": [
        "# 1 Introduction to PyTorch\n",
        "\n",
        "[PyTorch](https://pytorch.org/) is an open-source deep learning framework, designed to provide a flexible and efficient platform for building and training machine learning models.  This library provides essential primitives, including algorithms and data structures, to easily construct powerful deep learning models. In this section, we cover briefly the key core concepts in PyTorch. If you have any doubts or need more information about a specific function or method, it is recommented to refer to the [official documentation](https://pytorch.org/docs/stable/index.html)."
      ],
      "metadata": {
        "id": "VmGTah4D1067"
      }
    },
    {
      "cell_type": "markdown",
      "source": [
        "Let’s start with importing PyTorch."
      ],
      "metadata": {
        "id": "5gRYSIc7z5V4"
      }
    },
    {
      "cell_type": "code",
      "source": [
        "import torch"
      ],
      "metadata": {
        "id": "2KnwJQI2qOGn"
      },
      "execution_count": 133,
      "outputs": []
    },
    {
      "cell_type": "markdown",
      "source": [
        "You can verify that PyTorch is correctly installed by printing its version"
      ],
      "metadata": {
        "id": "kJCVoKWbqYZK"
      }
    },
    {
      "cell_type": "code",
      "source": [
        "print(torch.__version__)"
      ],
      "metadata": {
        "id": "3PTZVhImqd4F",
        "colab": {
          "base_uri": "https://localhost:8080/"
        },
        "outputId": "fed6bcdb-0a0d-481e-d2fa-303b0eaba451"
      },
      "execution_count": 134,
      "outputs": [
        {
          "output_type": "stream",
          "name": "stdout",
          "text": [
            "2.1.0+cu118\n"
          ]
        }
      ]
    },
    {
      "cell_type": "markdown",
      "source": [
        "You should see a version printed above, which looks something like `2.0.1+cu118`."
      ],
      "metadata": {
        "id": "556sLxx2quf8"
      }
    },
    {
      "cell_type": "markdown",
      "source": [
        "## 1.1 PyTorch Tensors\n",
        "\n",
        "In PyTorch, tensors are the primary data structures. You can think of a PyTorch tensor as a versatile multidimensional array, much like a Numpy array but finely tuned for deep learning models. For example, `torch` tensors support operations on the GPU, allowing for parallelization."
      ],
      "metadata": {
        "id": "j323egTA4OUp"
      }
    },
    {
      "cell_type": "markdown",
      "source": [
        "Creating a PyTorch tensor is very simple. For instace, we can initialize a $3$ dimensional tensor $x\\in \\mathbb{R}^{3\\times 3}$ using `torch.Tensor`."
      ],
      "metadata": {
        "id": "ha23z2xruxBb"
      }
    },
    {
      "cell_type": "code",
      "source": [
        "x = torch.Tensor([[1, 2, 3], [4, 5, 6], [7, 8, 9]])"
      ],
      "metadata": {
        "id": "Gp1Po9s7ssup"
      },
      "execution_count": 135,
      "outputs": []
    },
    {
      "cell_type": "markdown",
      "source": [
        "Accessing elements of a PyTorch tensor is just like how you would access elements in a Numpy array. You can use standard indexing, slicing, etc."
      ],
      "metadata": {
        "id": "oE1fHAAruy4f"
      }
    },
    {
      "cell_type": "code",
      "source": [
        "#Create a PyTorch tensor of shape 3x2 with random values between 0 and 1\n",
        "x = torch.rand(3, 2)\n",
        "print('\\nx:\\n', x)\n",
        "\n",
        "#Modify an element of the tensor\n",
        "x[2,0] = 10\n",
        "print('\\nx with an element modified:\\n', x)\n",
        "\n",
        "#Use slicing and replace part of the tensor with a 2 tensor containing only zeros\n",
        "x[:2][0] = torch.zeros(2)\n",
        "print('\\nx after slicing:\\n',x)"
      ],
      "metadata": {
        "id": "2srhMhrxvUkv",
        "colab": {
          "base_uri": "https://localhost:8080/"
        },
        "outputId": "587f79c9-57dc-43d9-987c-6baf1b5093cc"
      },
      "execution_count": 136,
      "outputs": [
        {
          "output_type": "stream",
          "name": "stdout",
          "text": [
            "\n",
            "x:\n",
            " tensor([[0.7782, 0.0882],\n",
            "        [0.9790, 0.2084],\n",
            "        [0.5930, 0.1905]])\n",
            "\n",
            "x with an element modified:\n",
            " tensor([[ 0.7782,  0.0882],\n",
            "        [ 0.9790,  0.2084],\n",
            "        [10.0000,  0.1905]])\n",
            "\n",
            "x after slicing:\n",
            " tensor([[ 0.0000,  0.0000],\n",
            "        [ 0.9790,  0.2084],\n",
            "        [10.0000,  0.1905]])\n"
          ]
        }
      ]
    },
    {
      "cell_type": "markdown",
      "source": [
        "Tensors can be converted to Numpy arrays and Numpy arrays can be converted back to tensors"
      ],
      "metadata": {
        "id": "FZtlAW4StBtz"
      }
    },
    {
      "cell_type": "code",
      "source": [
        "import numpy as np\n",
        "\n",
        "#Tensor to array\n",
        "np_x = x.numpy()\n",
        "\n",
        "print(\"PyTorch tensor\\n:\", x)\n",
        "print(\"\\nNumpy array\\n:\", np_x)"
      ],
      "metadata": {
        "id": "yXsOUxJbtBId",
        "colab": {
          "base_uri": "https://localhost:8080/"
        },
        "outputId": "bbf24107-7ea8-44d5-caa8-fa141d679d93"
      },
      "execution_count": 137,
      "outputs": [
        {
          "output_type": "stream",
          "name": "stdout",
          "text": [
            "PyTorch tensor\n",
            ": tensor([[ 0.0000,  0.0000],\n",
            "        [ 0.9790,  0.2084],\n",
            "        [10.0000,  0.1905]])\n",
            "\n",
            "Numpy array\n",
            ": [[ 0.          0.        ]\n",
            " [ 0.97903603  0.20843601]\n",
            " [10.          0.19049752]]\n"
          ]
        }
      ]
    },
    {
      "cell_type": "code",
      "source": [
        "#Array to tensor\n",
        "#First option\n",
        "x1_a = torch.Tensor(np_x)\n",
        "\n",
        "#Second option\n",
        "x1_b = torch.from_numpy(np_x)\n",
        "\n",
        "print(\"PyTorch tensor a:\\n\", x1_a)\n",
        "print(\"\\nPyTorch tensor b:\\n\", x1_b)"
      ],
      "metadata": {
        "id": "Ck7WLqAki9vD",
        "colab": {
          "base_uri": "https://localhost:8080/"
        },
        "outputId": "7af16df3-8298-4672-8c0f-fb98551af92e"
      },
      "execution_count": 138,
      "outputs": [
        {
          "output_type": "stream",
          "name": "stdout",
          "text": [
            "PyTorch tensor a:\n",
            " tensor([[ 0.0000,  0.0000],\n",
            "        [ 0.9790,  0.2084],\n",
            "        [10.0000,  0.1905]])\n",
            "\n",
            "PyTorch tensor b:\n",
            " tensor([[ 0.0000,  0.0000],\n",
            "        [ 0.9790,  0.2084],\n",
            "        [10.0000,  0.1905]])\n"
          ]
        }
      ]
    },
    {
      "cell_type": "markdown",
      "source": [
        "There is an essential difference between these two methods: the first one generates an independent tensor copy of the Numpy array, while the second option leads to both the tensor and the array sharing the same memory. This means that if you modify the Numpy array, the first tensor is unaffected while the second one gets changed."
      ],
      "metadata": {
        "id": "4PBgSm8zf8eX"
      }
    },
    {
      "cell_type": "markdown",
      "source": [
        "****\n",
        "**Task 1.1:** Verify this yourself by creating two tensor copies x1 and x2 of array np_x using the `torch.Tensor` constructor and `from_numpy` method. Then modify the array np_x and check the impact on the two tensors.\n",
        "****"
      ],
      "metadata": {
        "id": "whS_NCMgt_c1"
      }
    },
    {
      "cell_type": "code",
      "source": [
        "np_x = np.arange(10)\n",
        "print(\"Numpy array:\\n\", np_x)\n",
        "\n",
        "#############################################################################\n",
        "#                           START OF YOUR CODE                              #\n",
        "#############################################################################\n",
        "x1 = torch.Tensor(np_x)\n",
        "\n",
        "x2 = torch.from_numpy(np_x)\n",
        "\n",
        "np_x[1] = 2\n",
        "#############################################################################\n",
        "#                            END OF YOUR CODE                               #\n",
        "#############################################################################\n",
        "\n",
        "print(\"\\nPyTorch tensor 1:\\n\", x1)\n",
        "print(\"\\nPyTorch tensor 2:\\n\", x2)"
      ],
      "metadata": {
        "id": "5s2pnQgfHV-h",
        "colab": {
          "base_uri": "https://localhost:8080/"
        },
        "outputId": "c757d8ad-31d4-402c-ba78-8aa8b84a54c3"
      },
      "execution_count": 139,
      "outputs": [
        {
          "output_type": "stream",
          "name": "stdout",
          "text": [
            "Numpy array:\n",
            " [0 1 2 3 4 5 6 7 8 9]\n",
            "\n",
            "PyTorch tensor 1:\n",
            " tensor([0., 1., 2., 3., 4., 5., 6., 7., 8., 9.])\n",
            "\n",
            "PyTorch tensor 2:\n",
            " tensor([0, 2, 2, 3, 4, 5, 6, 7, 8, 9])\n"
          ]
        }
      ]
    },
    {
      "cell_type": "markdown",
      "source": [
        "The conversion from tensors to arrays requires the tensor to be on the CPU and not the GPU. If you have a tensor $x$ on GPU, you need first to call the method `.cpu()`: `x = x1.cpu().numpy()`."
      ],
      "metadata": {
        "id": "nTT9wtFMEm0B"
      }
    },
    {
      "cell_type": "markdown",
      "source": [
        "An important tensor method is `.view()`, which allows to reshape a tensor to a different shape. The caveat here is that the returned tensor shares memory with the original tensor, which in result saves an expensive copy operation. Thus, modifying the new tensor will modify the original. Best to illustrate this with an example:"
      ],
      "metadata": {
        "id": "ynoEIdeBwjBc"
      }
    },
    {
      "cell_type": "code",
      "source": [
        "# 1 dimensional tensor (vector) with integers from 0 to 15\n",
        "x = torch.arange(16)\n",
        "print(f'x:\\n{x}\\n')\n",
        "\n",
        "# Reorganize/reshape the vector into a 4x4 matrix\n",
        "x_view = x.view(4, 4)\n",
        "print(f'View of x:\\n{x_view}\\n')\n",
        "\n",
        "#Mofidy one element of the matrix\n",
        "x_view[0][0] = 42\n",
        "print(f'New x:\\n{x}')  # <---- NOTE that the original tensor also changed!\n",
        "print(f'New x_view\\n{x_view}')"
      ],
      "metadata": {
        "id": "ShsaJG68x0e9",
        "colab": {
          "base_uri": "https://localhost:8080/"
        },
        "outputId": "8ea5ce92-c425-46d5-cd91-b8b456648849"
      },
      "execution_count": 140,
      "outputs": [
        {
          "output_type": "stream",
          "name": "stdout",
          "text": [
            "x:\n",
            "tensor([ 0,  1,  2,  3,  4,  5,  6,  7,  8,  9, 10, 11, 12, 13, 14, 15])\n",
            "\n",
            "View of x:\n",
            "tensor([[ 0,  1,  2,  3],\n",
            "        [ 4,  5,  6,  7],\n",
            "        [ 8,  9, 10, 11],\n",
            "        [12, 13, 14, 15]])\n",
            "\n",
            "New x:\n",
            "tensor([42,  1,  2,  3,  4,  5,  6,  7,  8,  9, 10, 11, 12, 13, 14, 15])\n",
            "New x_view\n",
            "tensor([[42,  1,  2,  3],\n",
            "        [ 4,  5,  6,  7],\n",
            "        [ 8,  9, 10, 11],\n",
            "        [12, 13, 14, 15]])\n"
          ]
        }
      ]
    },
    {
      "cell_type": "markdown",
      "source": [
        "You can obtain the shape of a tensor unsing `Tensor.shape` as in Numpy or using the `.size()` method."
      ],
      "metadata": {
        "id": "rT2w_jP0N6ZZ"
      }
    },
    {
      "cell_type": "code",
      "source": [
        "print(\"Shape:\", x_view.shape)\n",
        "\n",
        "dim1, dim2 = x_view.size()\n",
        "print(f\"Size: {dim1},{dim2}\")"
      ],
      "metadata": {
        "id": "4Xpwj4GRO0wO",
        "colab": {
          "base_uri": "https://localhost:8080/"
        },
        "outputId": "5b8f942e-23a1-4254-8a02-b63a7fb8ec61"
      },
      "execution_count": 141,
      "outputs": [
        {
          "output_type": "stream",
          "name": "stdout",
          "text": [
            "Shape: torch.Size([4, 4])\n",
            "Size: 4,4\n"
          ]
        }
      ]
    },
    {
      "cell_type": "markdown",
      "source": [
        "## 1.2 Operations on tensors\n",
        "\n",
        "We can also perform different operations on tensors. For example, we can add, subtract and multiply tensors."
      ],
      "metadata": {
        "id": "nXdtQxMM41Da"
      }
    },
    {
      "cell_type": "code",
      "source": [
        "# Create 2x2 matrix containing numbers from 0 to 3\n",
        "x1 = torch.arange(4).view(2, 2)\n",
        "\n",
        "# Create a 2x2 matrix containing numbers from 4 to 7\n",
        "x2 = torch.arange(4, 8).view(2, 2)\n",
        "\n",
        "print(f'x1:\\n{x1}')\n",
        "print(f'x2:\\n{x2}')\n",
        "print()\n",
        "\n",
        "# Add two tensors\n",
        "print(f'Sum:\\n{x1 + x2}\\n')\n",
        "\n",
        "# Subtract one tensor from another\n",
        "print(f'Difference:\\n{x1 - x2}\\n')\n",
        "\n",
        "# Element-wise multiplication of tensor elements\n",
        "print(f'Element-wise product:\\n{x1 * x2}\\n')\n",
        "\n",
        "# Matrix multiplication\n",
        "print(f'Matrix product:\\n{x1 @ x2}\\n')\n"
      ],
      "metadata": {
        "id": "58I2ZU0f0SIl",
        "colab": {
          "base_uri": "https://localhost:8080/"
        },
        "outputId": "16866b7d-bbf3-494f-ed5c-3c442ab8384b"
      },
      "execution_count": 142,
      "outputs": [
        {
          "output_type": "stream",
          "name": "stdout",
          "text": [
            "x1:\n",
            "tensor([[0, 1],\n",
            "        [2, 3]])\n",
            "x2:\n",
            "tensor([[4, 5],\n",
            "        [6, 7]])\n",
            "\n",
            "Sum:\n",
            "tensor([[ 4,  6],\n",
            "        [ 8, 10]])\n",
            "\n",
            "Difference:\n",
            "tensor([[-4, -4],\n",
            "        [-4, -4]])\n",
            "\n",
            "Element-wise product:\n",
            "tensor([[ 0,  5],\n",
            "        [12, 21]])\n",
            "\n",
            "Matrix product:\n",
            "tensor([[ 6,  7],\n",
            "        [26, 31]])\n",
            "\n"
          ]
        }
      ]
    },
    {
      "cell_type": "markdown",
      "source": [
        "`torch.matmul` is an equivalent operator to `@` to perform the product over two tensors."
      ],
      "metadata": {
        "id": "6i2wyh2W8cf8"
      }
    },
    {
      "cell_type": "markdown",
      "source": [
        "Many `torch` operators support broadcasting, which means that operations are applied to tensors with potentially different shapes in a way that automatically extends or aligns their dimensions to ensure compatibility, enabling element-wise operations.\n",
        "\n",
        "Here we see a simple example."
      ],
      "metadata": {
        "id": "eT4x-6I8ppvS"
      }
    },
    {
      "cell_type": "code",
      "source": [
        "#Create 1D random tensor\n",
        "b = torch.arange(x1.shape[1])\n",
        "\n",
        "print('x:', x1)\n",
        "print('\\nb:', b)\n",
        "\n",
        "print('\\nBroadcast sum\\n', x1+b)\n"
      ],
      "metadata": {
        "id": "qWBpQVL0sSDJ",
        "colab": {
          "base_uri": "https://localhost:8080/"
        },
        "outputId": "d1a03f17-6893-4fa4-a606-e9ef39033ee3"
      },
      "execution_count": 143,
      "outputs": [
        {
          "output_type": "stream",
          "name": "stdout",
          "text": [
            "x: tensor([[0, 1],\n",
            "        [2, 3]])\n",
            "\n",
            "b: tensor([0, 1])\n",
            "\n",
            "Broadcast sum\n",
            " tensor([[0, 2],\n",
            "        [2, 4]])\n"
          ]
        }
      ]
    },
    {
      "cell_type": "markdown",
      "source": [
        "****\n",
        "**Question 1.2:** Consider the 2-dimentional tensors\n",
        "$$\n",
        "x_1=\n",
        "\\begin{pmatrix}\n",
        "1 & 2 & 3 \\\\ 4 & 5 & 6\n",
        "\\end{pmatrix}\n",
        "\\hspace{40pt}\n",
        "x_2 =\n",
        "\\begin{pmatrix}\n",
        "1 & 2 & 3 & 4\\\\\n",
        "5 & 6 & 7 & 8\\\\\n",
        "9 & 10 & 11 & 12\n",
        "\\end{pmatrix}\n",
        "$$\n",
        "What is the size of the product $x_1 \\cdot x_2$? And what about $x_2 \\cdot x_1$?"
      ],
      "metadata": {
        "id": "oVY1oMP3Ljo8"
      }
    },
    {
      "cell_type": "markdown",
      "source": [
        "<font color='green'>Write your answere here</font>\n",
        "\n",
        "The first one should be 2 * 4 while the second one will perform broadcasting, x1 is 2 * 3, x2 is 3 * 4, then that would be 3 * 3, x1 will automatically duplicate its rows and becomes 4 * 3"
      ],
      "metadata": {
        "id": "86ZgJ1W_-vSj"
      }
    },
    {
      "cell_type": "markdown",
      "source": [
        "****\n",
        "**Task 1.3:**\n",
        "Compute the product bewteen tensors x1 and x2 and check its shape.\n",
        "****"
      ],
      "metadata": {
        "id": "hFQ_SjLYA3f3"
      }
    },
    {
      "cell_type": "code",
      "source": [
        "x1 = torch.arange(1,7).view(2,3)\n",
        "x2 = torch.arange(1,13).view(3,4)\n",
        "\n",
        "#############################################################################\n",
        "#                           START OF YOUR CODE                              #\n",
        "#############################################################################\n",
        "shape = (x1 @ x2).shape\n",
        "#############################################################################\n",
        "#                            END OF YOUR CODE                               #\n",
        "#############################################################################\n",
        "\n",
        "print(\"\\n Shape of ouput tensor y:\", shape)"
      ],
      "metadata": {
        "id": "ehW5AOkEMw79",
        "colab": {
          "base_uri": "https://localhost:8080/"
        },
        "outputId": "7876f706-311d-4c52-a4da-189926ee4a2e"
      },
      "execution_count": 144,
      "outputs": [
        {
          "output_type": "stream",
          "name": "stdout",
          "text": [
            "\n",
            " Shape of ouput tensor y: torch.Size([2, 4])\n"
          ]
        }
      ]
    },
    {
      "cell_type": "markdown",
      "source": [
        "## 1.3 GPU use\n",
        "\n",
        "Graphical Processing Units (GPUs) are often used in deep learning due to their ability to parallelize certain operations, such as matrix multiplications. Consequently, deep learning computations performed on GPUs tend to be considerably faster than those on Central Processing Units (CPUs).\n",
        "\n",
        "Google Colab gives its users the possibility to run their code on a GPU. To enable this feature, you should go to `Runtime -> Change runtime type -> Hardware accelerator -> GPU -> OK`. Afterwards, you will need to rerun all cells in this notebook. We can then check if the GPU is setup correctly and visible to PyTorch:"
      ],
      "metadata": {
        "id": "9j8ymewZ5DXo"
      }
    },
    {
      "cell_type": "markdown",
      "source": [],
      "metadata": {
        "id": "TkQdQLNTI_1C"
      }
    },
    {
      "cell_type": "code",
      "source": [
        "if torch.cuda.is_available() and torch.cuda.device_count() > 0:\n",
        "  for device_idx in range(torch.cuda.device_count()):\n",
        "    device = torch.cuda.get_device_properties(device_idx)\n",
        "    print(f'GPU {device_idx}:')\n",
        "    print(f'  Name: {device.name}')\n",
        "    print(f'  Available memory: {round(device.total_memory / (1024 ** 3), 1)}GB')\n",
        "else:\n",
        "  print('No GPU is setup')"
      ],
      "metadata": {
        "id": "LhwRBqG74XoG",
        "colab": {
          "base_uri": "https://localhost:8080/"
        },
        "outputId": "06fee134-e391-4a21-ea7f-46af3d0f6e9a"
      },
      "execution_count": 145,
      "outputs": [
        {
          "output_type": "stream",
          "name": "stdout",
          "text": [
            "GPU 0:\n",
            "  Name: Tesla T4\n",
            "  Available memory: 14.7GB\n"
          ]
        }
      ]
    },
    {
      "cell_type": "markdown",
      "source": [
        "If the GPU is setup correctly, you should see the name of the GPU displayed alongside the available memory. If no GPU is detected, you will see `No GPU setup` printed. If the setup is correct, we can now move our tensors between the GPU and the CPU:"
      ],
      "metadata": {
        "id": "Bj-2m8h4Bwlj"
      }
    },
    {
      "cell_type": "code",
      "source": [
        "x = torch.rand(10)\n",
        "\n",
        "#Chek the tensor location\n",
        "print(f'x is located on {x.device}')\n",
        "\n",
        "#Move the tensor to GPU\n",
        "x = x.cuda()\n",
        "\n",
        "#Chek the tensor location\n",
        "print(f'x is located on {x.device}')"
      ],
      "metadata": {
        "id": "789RYiwpBYnb",
        "colab": {
          "base_uri": "https://localhost:8080/"
        },
        "outputId": "fb5973d9-29d9-4990-df5d-3e0196cb2b76"
      },
      "execution_count": 146,
      "outputs": [
        {
          "output_type": "stream",
          "name": "stdout",
          "text": [
            "x is located on cpu\n",
            "x is located on cuda:0\n"
          ]
        }
      ]
    },
    {
      "cell_type": "markdown",
      "source": [
        "We can apply functions or operations to tensors located on a GPU just as you would to tensors on a CPU."
      ],
      "metadata": {
        "id": "U_g_XsfdEfqv"
      }
    },
    {
      "cell_type": "markdown",
      "source": [
        "# 2 Multi-layer Perceptrons\n",
        "\n",
        "Modern neural networks consist of many building blocks that are assembled together to create deep and sophisticated architectures. Here we want to introduce you to the basic blocks that will allow you to build your first neural network.\n"
      ],
      "metadata": {
        "id": "0wDALZseTH11"
      }
    },
    {
      "cell_type": "markdown",
      "source": [
        "## 2.1 Linear Layers\n",
        "\n",
        "A linear (fully connected) layer represents a linear transformation of an input $x \\in \\mathbb{R}^{N_{\\text{in}}}$ to an output $y  \\in \\mathbb{R}^{N_{\\text{out}}}$ described as:\n",
        "\n",
        "$$ y = x\\cdot\\mathbf{W}  + \\mathbf{b}$$\n",
        "\n",
        "for weight $\\mathbf{W}\\in \\mathbb{R}^{N_{\\text{in}} \\times N_{\\text{out}}}$ and bias $\\mathbf{b}\\in \\mathbb{R}^{N_{\\text{out}}}$ matrices. $N_{\\text{in}}$ and $N_{\\text{out}}$ correspond to the dimension (or features) of the input and output space respectively."
      ],
      "metadata": {
        "id": "UBvhHSYfVhUB"
      }
    },
    {
      "cell_type": "markdown",
      "source": [
        "***\n",
        "**Question 2.1:** What does $\\textbf{W}_{ij}$ represent exactly?"
      ],
      "metadata": {
        "id": "WapxJq9mqsMk"
      }
    },
    {
      "cell_type": "markdown",
      "source": [
        "<font color='green'>Write your answere here</font>\n",
        "\n",
        "meaning for the jth output, the weight added to the ith input"
      ],
      "metadata": {
        "id": "jUqezoTGrQRQ"
      }
    },
    {
      "cell_type": "markdown",
      "source": [
        "Moreover, modern deep learning frameworks are highly parallelizable, allowing them to process multiple inputs at the same time, forming so-called *batches*. Therefore, the full dimension of $x$ will be $ \\mathbb{R}^{{\\text{batch}} \\times N_{\\text{in}}} $, $x \\cdot\\textbf{W}$ is a matrix multiplication and the bias vector is added to each column of this product, i.e. $y=x \\cdot\\textbf{W}+\\,\\textbf{1}\\cdot\\textbf{b}^T$, where $\\textbf{1}\\in\\mathbb{R}^{{\\text{batch}}}$ is a vector whose components are all one.\n",
        "\n",
        "\n",
        "To build such a layer, we can complete the reference implementation provided below"
      ],
      "metadata": {
        "id": "iDc5uQ6UrOQ2"
      }
    },
    {
      "cell_type": "markdown",
      "source": [
        "****\n",
        "**Task 2.2:** Complete the code to initialize the $\\mathbf{W}$ and $\\mathbf{b}$ matrices with the correct dimensions, and compute the output $y$ of the linear layer.\n",
        "\n",
        "**Hint**: remember that the sum supports broadcasting.\n",
        "****"
      ],
      "metadata": {
        "id": "MTp8O_6tHnVa"
      }
    },
    {
      "cell_type": "code",
      "metadata": {
        "id": "oWcqUhVgfR5A"
      },
      "source": [
        "class Linear (object):\n",
        "    \"\"\"\n",
        "    Fully connected layer.\n",
        "    \"\"\"\n",
        "\n",
        "    def __init__(self, N_in, N_out):\n",
        "        \"\"\"\n",
        "        Args:\n",
        "          N_in:  number of input features (input space dimension)\n",
        "          N_out: number of output features (output space dimension)\n",
        "        \"\"\"\n",
        "        #############################################################################\n",
        "        #                           START OF YOUR CODE                              #\n",
        "        #############################################################################\n",
        "        self.N_in = N_in\n",
        "        self.N_out = N_out\n",
        "        self.weight = torch.Tensor(np.arange(self.N_in * self.N_out)).view(self.N_in, self.N_out)\n",
        "        self.bias = torch.Tensor(np.arange(self.N_out)).view(1, self.N_out)\n",
        "        #############################################################################\n",
        "        #                            END OF YOUR CODE                               #\n",
        "        #############################################################################\n",
        "\n",
        "        # Initialize parameters\n",
        "        self.init_params()\n",
        "\n",
        "    def init_params(self):\n",
        "        \"\"\"\n",
        "        Initialize layer parameters by sampling from uniform distribution over [0,1)\n",
        "        \"\"\"\n",
        "        self.weight = torch.randn_like(self.weight)\n",
        "        self.bias = torch.rand_like(self.bias)\n",
        "\n",
        "    def forward(self, x):\n",
        "        \"\"\"\n",
        "        Forward pass of Linear layer: multiply input tensor by weights and add\n",
        "        bias.\n",
        "\n",
        "        Args:\n",
        "            x: input tensor\n",
        "\n",
        "        Returns:\n",
        "            y: output tensor\n",
        "        \"\"\"\n",
        "\n",
        "        #############################################################################\n",
        "        #                           START OF YOUR CODE                              #\n",
        "        #############################################################################\n",
        "        y = x @ self.weight + self.bias\n",
        "        #############################################################################\n",
        "        #                            END OF YOUR CODE                               #\n",
        "        #############################################################################\n",
        "\n",
        "        return y"
      ],
      "execution_count": 147,
      "outputs": []
    },
    {
      "cell_type": "markdown",
      "source": [
        "Having defined a linear layer, we can now use it to perform a forward pass on some random input $x$."
      ],
      "metadata": {
        "id": "G_vad40qZzM4"
      }
    },
    {
      "cell_type": "markdown",
      "source": [
        "*****\n",
        "**Question 2.3:**\n",
        "The input sample $x$ comprises 2 examples each with 3 dimensions (or features) and a linear layer has 4 units. What is the dimension of the output tensor $y$?"
      ],
      "metadata": {
        "id": "w-IyNdTfhKn3"
      }
    },
    {
      "cell_type": "markdown",
      "source": [
        "<font color='green'>Write your answere here</font>\n",
        "\n",
        "should be 2 * 4, 2 means 2 outputs corresponding to each set of inputs (totally 2 examples of inputs), 4 is the dimension of each output"
      ],
      "metadata": {
        "id": "XeSzSt_8htKC"
      }
    },
    {
      "cell_type": "markdown",
      "source": [
        "****\n",
        "**Task 2.4:** Instantiate a linear layer with the variable name ```layer```. Perform a forward pass on the input $x$ and check the shape of the output $y$.\n",
        "****"
      ],
      "metadata": {
        "id": "oMrcl6pCf1CT"
      }
    },
    {
      "cell_type": "code",
      "metadata": {
        "id": "bSALY1wPFGXZ",
        "colab": {
          "base_uri": "https://localhost:8080/"
        },
        "outputId": "d578e6c4-cf12-4bcf-a046-8d172aee7d67"
      },
      "source": [
        "# Define layer dimensions and dummy input\n",
        "batch_size, N_in, N_out = 2, 3, 4\n",
        "\n",
        "# Make input tensor of dimensions [batch_size, N_in] with random values between -1 and 1\n",
        "x = 2*torch.randn((batch_size, N_in))-1\n",
        "\n",
        "#############################################################################\n",
        "#                           START OF YOUR CODE                              #\n",
        "#############################################################################\n",
        "layer = Linear(N_in, N_out)\n",
        "y = layer.forward(x)\n",
        "#############################################################################\n",
        "#                            END OF YOUR CODE                               #\n",
        "#############################################################################\n",
        "\n",
        "# Shape output tensor y\n",
        "print('Shape of ouput tensor y:', y.shape)"
      ],
      "execution_count": 148,
      "outputs": [
        {
          "output_type": "stream",
          "name": "stdout",
          "text": [
            "Shape of ouput tensor y: torch.Size([2, 4])\n"
          ]
        }
      ]
    },
    {
      "cell_type": "markdown",
      "source": [
        "In order to validate our solution and further explore the capabilities of PyTorch, we can solve the same exercise by using the building blocks provided by PyTorch.\n",
        "\n",
        "The linear layer as well as many other useful classes are defined in the **torch.nn** module. A full list of these classes can be found [here](https://pytorch.org/docs/stable/nn.html).\n",
        "\n",
        "We compare the outputs of both implementations using [`torch.allclose`]( https://pytorch.org/docs/stable/generated/torch.allclose.html) which returns True if the tensors have all their components sufficiently \"close\" to each other (i.e. if the distance between the two tensors is lower than a small tolerance threshold)."
      ],
      "metadata": {
        "id": "xB8dNwsqaVRn"
      }
    },
    {
      "cell_type": "code",
      "metadata": {
        "id": "xa-_W-MgFJzN",
        "colab": {
          "base_uri": "https://localhost:8080/"
        },
        "outputId": "c44a95e0-e3be-43b5-a4b4-f2d699170b89"
      },
      "source": [
        "# Create Linear layer from torch.nn module\n",
        "torch_layer = torch.nn.Linear(N_in, N_out)\n",
        "\n",
        "# Load the parameters from our layer into the Pytorch layer\n",
        "torch_layer.weight = torch.nn.Parameter(layer.weight.T) # transpose weight by .T\n",
        "torch_layer.bias = torch.nn.Parameter(layer.bias)\n",
        "\n",
        "# Perform forward pass\n",
        "torch_y = torch_layer(x)\n",
        "\n",
        "# Shape of output tensor torch_y?\n",
        "print('Shape of ouput tensor torch_y:', torch_y.shape)\n",
        "\n",
        "# Compare outputs using torch.allclose\n",
        "outputs_same = torch.allclose(y, torch_y)\n",
        "print('Outputs identical: ', outputs_same)"
      ],
      "execution_count": 149,
      "outputs": [
        {
          "output_type": "stream",
          "name": "stdout",
          "text": [
            "Shape of ouput tensor torch_y: torch.Size([2, 4])\n",
            "Outputs identical:  True\n"
          ]
        }
      ]
    },
    {
      "cell_type": "markdown",
      "source": [
        "Your forward implementation of the linear layer is *correct* if `True` is returned."
      ],
      "metadata": {
        "id": "DlgJV-haboST"
      }
    },
    {
      "cell_type": "markdown",
      "source": [
        "## 2.2 Activation functions\n",
        "\n",
        "At this point, you may wonder about the difference between a simple linear regression model and our linear layer, and the short answer is - there is none. However, we aim for our neural network to learn non-linear relationships between the input and output spaces. This is where non-linear activation functions come into play."
      ],
      "metadata": {
        "id": "Z6mutfapbsLY"
      }
    },
    {
      "cell_type": "markdown",
      "source": [
        "One of the most common activation function is the Rectified Linear Unit (ReLU) defined as\n",
        "\n",
        "$$\n",
        "\\operatorname{ReLU}(x) =\n",
        "\\begin{cases}\n",
        "x & \\text{if } x\\geq 0\\\\\n",
        "0 & \\text{if } x < 0\n",
        "\\end{cases}\n",
        "\\quad= \\quad\\max\\{0, x\\}\n",
        "$$"
      ],
      "metadata": {
        "id": "NFoz2CugGCCq"
      }
    },
    {
      "cell_type": "code",
      "source": [
        "class ReLU (object):\n",
        "    \"\"\"\n",
        "    ReLU non-linear activation function.\n",
        "    \"\"\"\n",
        "    def __init__(self):\n",
        "        super(ReLU, self).__init__()\n",
        "\n",
        "    def forward(self, x):\n",
        "        \"\"\"\n",
        "        Forward pass of ReLU non-linear activation function: y=max(0,x).\n",
        "        Args:\n",
        "            x: input tensor\n",
        "\n",
        "        Returns:\n",
        "            y: output tensor\n",
        "        \"\"\"\n",
        "        #Clamp all the values below zero and replace them with 0\n",
        "        y = torch.clamp(x,min=0)\n",
        "\n",
        "        return y"
      ],
      "metadata": {
        "id": "28920vtRHhlp"
      },
      "execution_count": 150,
      "outputs": []
    },
    {
      "cell_type": "markdown",
      "source": [
        "Now let's now test our implementation on the dummy input tensor $x$."
      ],
      "metadata": {
        "id": "ZfOlo_HtVtOM"
      }
    },
    {
      "cell_type": "code",
      "source": [
        "print('Input tensor x\\n:',x)\n",
        "\n",
        "#Our implementation\n",
        "relu = ReLU()\n",
        "y_relu = relu.forward(x)\n",
        "\n",
        "print('\\nOutput of our ReLU implementation:\\n',y_relu)"
      ],
      "metadata": {
        "colab": {
          "base_uri": "https://localhost:8080/"
        },
        "id": "WvQhkUyKOJYy",
        "outputId": "fd2df2f4-fad1-48bd-a51b-d54ff500fa4a"
      },
      "execution_count": 151,
      "outputs": [
        {
          "output_type": "stream",
          "name": "stdout",
          "text": [
            "Input tensor x\n",
            ": tensor([[-0.3894,  0.3744, -1.2067],\n",
            "        [-0.2117, -4.7340, -2.9832]])\n",
            "\n",
            "Output of our ReLU implementation:\n",
            " tensor([[0.0000, 0.3744, 0.0000],\n",
            "        [0.0000, 0.0000, 0.0000]])\n"
          ]
        }
      ]
    },
    {
      "cell_type": "markdown",
      "source": [
        "We can also apply ReLU in PyTorch using the `torch.nn.ReLU` class."
      ],
      "metadata": {
        "id": "DmFMFtddNdKI"
      }
    },
    {
      "cell_type": "code",
      "source": [
        "#Torch implementation\n",
        "torch_relu = torch.nn.ReLU()\n",
        "torch_y_relu = torch_relu.forward(x)\n",
        "\n",
        "check = torch.allclose(torch_y_relu,y_relu)\n",
        "print('\\nOutputs identical: ', check)"
      ],
      "metadata": {
        "id": "O9nc28KMVN7J",
        "colab": {
          "base_uri": "https://localhost:8080/"
        },
        "outputId": "5d4dee5c-a671-48f5-a35f-2ee7eda6a785"
      },
      "execution_count": 152,
      "outputs": [
        {
          "output_type": "stream",
          "name": "stdout",
          "text": [
            "\n",
            "Outputs identical:  True\n"
          ]
        }
      ]
    },
    {
      "cell_type": "markdown",
      "source": [
        "****\n",
        "**Task 2.5:**\n",
        "Implement your definition of the [sigmoid function](https://en.wikipedia.org/wiki/Sigmoid_function). Then verify your implementation by comparing it with the PyTorch counterpart `torch.nn.sigmoid`.\n",
        "****"
      ],
      "metadata": {
        "id": "Z9-9sfe-HI9r"
      }
    },
    {
      "cell_type": "code",
      "metadata": {
        "id": "YOm4JCVSG8Mp"
      },
      "source": [
        "class Sigmoid (object):\n",
        "    \"\"\"\n",
        "    Sigmoid non-linear activation function.\n",
        "    \"\"\"\n",
        "    def forward(self, x):\n",
        "        \"\"\"\n",
        "        Forward pass of Sigmoid non-linear activation function: y=1/(1+exp(-x)).\n",
        "\n",
        "        Args:\n",
        "            x: input tensor\n",
        "\n",
        "        Returns:\n",
        "            y: output tensor\n",
        "        \"\"\"\n",
        "        ########################################################################\n",
        "        #                        START OF YOUR CODE                            #\n",
        "        ########################################################################\n",
        "        y = y=1/(1+np.exp(-x))\n",
        "        ########################################################################\n",
        "        #                         END OF YOUR CODE                             #\n",
        "        ########################################################################\n",
        "\n",
        "        return y"
      ],
      "execution_count": 153,
      "outputs": []
    },
    {
      "cell_type": "code",
      "source": [
        "#Our implementation\n",
        "#############################################################################\n",
        "#                           START OF YOUR CODE                              #\n",
        "#############################################################################\n",
        "sigma = Sigmoid()\n",
        "torch_y_sigma = sigma.forward(x)\n",
        "#############################################################################\n",
        "#                            END OF YOUR CODE                               #\n",
        "#############################################################################\n",
        "\n",
        "#Torch implementation\n",
        "#############################################################################\n",
        "#                           START OF YOUR CODE                              #\n",
        "#############################################################################\n",
        "sigma2 = torch.nn.Sigmoid()\n",
        "y_sigma = sigma2.forward(x)\n",
        "#############################################################################\n",
        "#                            END OF YOUR CODE                               #\n",
        "#############################################################################\n",
        "\n",
        "check = torch.allclose(torch_y_sigma,y_sigma)\n",
        "\n",
        "print('\\nOutputs identical: ', check)"
      ],
      "metadata": {
        "colab": {
          "base_uri": "https://localhost:8080/"
        },
        "id": "wdUetRpxW4Bk",
        "outputId": "58639bc6-7052-4236-ee82-c96e1ce8e306"
      },
      "execution_count": 154,
      "outputs": [
        {
          "output_type": "stream",
          "name": "stdout",
          "text": [
            "\n",
            "Outputs identical:  True\n"
          ]
        }
      ]
    },
    {
      "cell_type": "markdown",
      "source": [
        "****\n",
        "**Question 2.6:** What is the shape of the output tensor y for an input tensor x?"
      ],
      "metadata": {
        "id": "y1shBPgcYKO2"
      }
    },
    {
      "cell_type": "markdown",
      "source": [
        "<font color='green'>Write your answere here</font>\n",
        "\n",
        "2 * 3 cause the dimension of x is 2 * 3 and the only forward is to map the x value to y, the tensor diemnsion does not change"
      ],
      "metadata": {
        "id": "pLmM-w4MYxJB"
      }
    },
    {
      "cell_type": "markdown",
      "metadata": {
        "id": "7hiL-1zwRh_G"
      },
      "source": [
        "A list of all available non-linearities in PyTorch can be found [here](https://pytorch.org/docs/stable/nn.html#non-linear-activations-weighted-sum-nonlinearity)."
      ]
    },
    {
      "cell_type": "markdown",
      "source": [
        "Despite the implementation similarity, these two activation function, and in general other activation functions have very different behaviours, especially during training. Therefore, when building a neural network, special consideration has to be paid to them."
      ],
      "metadata": {
        "id": "7ipKU6x8dshy"
      }
    },
    {
      "cell_type": "markdown",
      "source": [
        "## 2.3 Building a network\n",
        "\n",
        "Using the linear layer and the activation functions described beforehand, we can start piecing together our first neural network. To do so, we can define a base class that will allow us to stack an arbitrary amount of layers and activation functions."
      ],
      "metadata": {
        "id": "FTvLIxmgeIi2"
      }
    },
    {
      "cell_type": "markdown",
      "source": [
        "****\n",
        "**Task 2.7:** Complete the code, performing a forward pass through all the layers in the net.\n",
        "****"
      ],
      "metadata": {
        "id": "dR9gnTUXNNWP"
      }
    },
    {
      "cell_type": "code",
      "metadata": {
        "id": "vi8luwCMgobr"
      },
      "source": [
        "class Net (object):\n",
        "    \"\"\"\n",
        "    Neural network object containing layers.\n",
        "    \"\"\"\n",
        "\n",
        "    def __init__(self, layers):\n",
        "        \"\"\"\n",
        "        Args:\n",
        "          layers: list of layers in neural network\n",
        "        \"\"\"\n",
        "        self.layers = layers\n",
        "\n",
        "    def forward(self, x):\n",
        "        \"\"\"\n",
        "        Performs forward pass through all layers of the network.\n",
        "\n",
        "        Args:\n",
        "            x: input tensor\n",
        "\n",
        "        Returns:\n",
        "            x: output tensor\n",
        "        \"\"\"\n",
        "\n",
        "        ########################################################################\n",
        "        #                        START OF YOUR CODE                            #\n",
        "        ########################################################################\n",
        "        for layer in self.layers:\n",
        "          x = layer.forward(x)\n",
        "        ########################################################################\n",
        "        #                         END OF YOUR CODE                             #\n",
        "        ########################################################################\n",
        "\n",
        "        return x"
      ],
      "execution_count": 155,
      "outputs": []
    },
    {
      "cell_type": "markdown",
      "source": [
        "As an example, now we can defined a two layer network with an input size of 2, 5 nodes in the hidden layer and an output size of 1."
      ],
      "metadata": {
        "id": "mOPHaurqi-uC"
      }
    },
    {
      "cell_type": "code",
      "metadata": {
        "id": "5k4uPheAjLsY",
        "colab": {
          "base_uri": "https://localhost:8080/"
        },
        "outputId": "942568f8-852e-4553-90de-b9c0ab742970"
      },
      "source": [
        "N_in = 3\n",
        "hidden_dim = 5\n",
        "N_out = 1\n",
        "\n",
        "# Define and initialize layers\n",
        "layers = [Linear(N_in, hidden_dim),\n",
        "          ReLU(),\n",
        "          Linear(hidden_dim, N_out)]\n",
        "\n",
        "# Initialize network\n",
        "net = Net(layers)\n",
        "\n",
        "# Do forward pass\n",
        "y = net.forward(x)\n",
        "\n",
        "# What will be the shape of output tensor y?\n",
        "print('Shape of ouput tensor y:', y.shape)"
      ],
      "execution_count": 156,
      "outputs": [
        {
          "output_type": "stream",
          "name": "stdout",
          "text": [
            "Shape of ouput tensor y: torch.Size([2, 1])\n"
          ]
        }
      ]
    },
    {
      "cell_type": "markdown",
      "source": [
        "****\n",
        "**Question 2.8**: Depict the computational graph for this network.\n",
        "What do the dimesions of the output correspond to?"
      ],
      "metadata": {
        "id": "z_valLuGQLoW"
      }
    },
    {
      "cell_type": "markdown",
      "source": [
        "<font color='green'>Write your answere here</font>\n",
        "\n",
        "the output dimension is 2 * 1, which means we have 2 outputs and each one corresponds to one set of inputs, and 1 means that one output's dimension is 1, which is a number\n"
      ],
      "metadata": {
        "id": "B_cAC7_9bBXN"
      }
    },
    {
      "cell_type": "markdown",
      "source": [
        "We will now create the same neural network in PyTorch. PyTorch uses the `nn.Module` base class for neural network architectures, which is similar to the `Net` object that we have just defined. However, other than in the `Net` class, you have to define all layers inside the network definition.\n",
        "\n",
        "This is an important exercise, as this is how you will define all your future models in PyTorch.\n",
        "\n",
        "You can print a PyTorch `module` to see all sub-modules (i.e. layers) in the module."
      ],
      "metadata": {
        "id": "bEM0rh9IRJel"
      }
    },
    {
      "cell_type": "markdown",
      "source": [
        "****\n",
        "**Task 2.9:** Complete the code, defining the same layers as we did in our network class with the attribute names ```layer1``` and ```layer2``` and using the activation function ```relu```. Implement the forward pass and initialize a TorchNet object as ```torch_net```.\n",
        "****"
      ],
      "metadata": {
        "id": "W4iE0gxkgZYc"
      }
    },
    {
      "cell_type": "code",
      "metadata": {
        "id": "Mln6iWyrP1NF"
      },
      "source": [
        "import torch.nn as nn\n",
        "\n",
        "class TorchNet(nn.Module):\n",
        "    \"\"\"\n",
        "    PyTorch neural network. Network layers are defined in __init__ and forward\n",
        "    pass implemented in forward.\n",
        "    \"\"\"\n",
        "\n",
        "    def __init__(self, N_in, hidden_dim, N_out):\n",
        "        \"\"\"\n",
        "        Args:\n",
        "          N_in: number of features in input layer\n",
        "          hidden_dim: number of features in hidden layer\n",
        "          N_out: number of features in output layer\n",
        "        \"\"\"\n",
        "\n",
        "        super(TorchNet, self).__init__()\n",
        "\n",
        "        ########################################################################\n",
        "        #                        START OF YOUR CODE                            #\n",
        "        ########################################################################\n",
        "        self.layer1 = nn.Linear(N_in, hidden_dim)\n",
        "        self.relu = nn.ReLU()\n",
        "        self.layer2 = nn.Linear(hidden_dim, N_out)\n",
        "\n",
        "        ########################################################################\n",
        "        #                         END OF YOUR CODE                             #\n",
        "        ########################################################################\n",
        "\n",
        "    def forward(self, x):\n",
        "        \"\"\"\n",
        "        Performs forward pass through all layers of the network.\n",
        "\n",
        "        Args:\n",
        "            x: input tensor\n",
        "\n",
        "        Returns:\n",
        "            x: output tensor\n",
        "        \"\"\"\n",
        "\n",
        "        ########################################################################\n",
        "        #                        START OF YOUR CODE                            #\n",
        "        ########################################################################\n",
        "        x = self.layer1.forward(x)\n",
        "        x = self.relu.forward(x)\n",
        "        x = self.layer2.forward(x)\n",
        "        ########################################################################\n",
        "        #                         END OF YOUR CODE                             #\n",
        "        ########################################################################\n",
        "        return x\n",
        "\n"
      ],
      "execution_count": 157,
      "outputs": []
    },
    {
      "cell_type": "code",
      "source": [
        "# Initialize Pytorch network\n",
        "########################################################################\n",
        "#                        START OF YOUR CODE                            #\n",
        "########################################################################\n",
        "torch_net = TorchNet(N_in, hidden_dim, N_out)\n",
        "########################################################################\n",
        "#                         END OF YOUR CODE                             #\n",
        "########################################################################\n",
        "\n",
        "print(torch_net)"
      ],
      "metadata": {
        "id": "gH8xe0vvThH8",
        "colab": {
          "base_uri": "https://localhost:8080/"
        },
        "outputId": "8e20b3fa-8d67-4c12-f254-ac3ccdabe2bb"
      },
      "execution_count": 158,
      "outputs": [
        {
          "output_type": "stream",
          "name": "stdout",
          "text": [
            "TorchNet(\n",
            "  (layer1): Linear(in_features=3, out_features=5, bias=True)\n",
            "  (relu): ReLU()\n",
            "  (layer2): Linear(in_features=5, out_features=1, bias=True)\n",
            ")\n"
          ]
        }
      ]
    },
    {
      "cell_type": "markdown",
      "source": [
        "To check your implementation we will now again compare the outputs of the two networks. For that, we need to load the weights from our network into the PyTorch network."
      ],
      "metadata": {
        "id": "Lvn0LqdZT7-u"
      }
    },
    {
      "cell_type": "code",
      "source": [
        "# Load the parameters from our model into the Pytorch model\n",
        "torch_net.layer1.weight = nn.Parameter(net.layers[0].weight.t()) # transpose weight by .t()\n",
        "torch_net.layer1.bias = nn.Parameter(net.layers[0].bias)\n",
        "torch_net.layer2.weight = nn.Parameter(net.layers[2].weight.t()) # transpose weight by .t()\n",
        "torch_net.layer2.bias = nn.Parameter(net.layers[2].bias)\n",
        "\n",
        "# Perform forward pass\n",
        "torch_y = torch_net(x)\n",
        "\n",
        "# What will be the shape of output tensor torch_y?\n",
        "print('Shape of ouput tensor y:', torch_y.shape)\n",
        "\n",
        "# Compare outputs using torch.allclose\n",
        "outputs_same = torch.allclose(y, torch_y)\n",
        "print('Network outputs identical: ', outputs_same)"
      ],
      "metadata": {
        "id": "wLxQ7mbEUHhU",
        "colab": {
          "base_uri": "https://localhost:8080/"
        },
        "outputId": "1c9763ef-95db-4223-84ab-48ba559bd853"
      },
      "execution_count": 159,
      "outputs": [
        {
          "output_type": "stream",
          "name": "stdout",
          "text": [
            "Shape of ouput tensor y: torch.Size([2, 1])\n",
            "Network outputs identical:  True\n"
          ]
        }
      ]
    },
    {
      "cell_type": "markdown",
      "source": [
        "## 2.4 Introducing a regression problem\n",
        "\n",
        "Finally, we have gathered all the necessary tools to solve our first problem using a neural network.\n",
        "\n",
        "In many areas of engineering, neural networks are used to approximate complex non-linear models when these models are either missing an analytical formulation, or are too computationally expensive to evaluate.\n",
        "\n",
        "Starting off simple, the function we will try to approximate is the 2-dimensional Gaussian distribution:\n",
        "\n",
        "$$\n",
        "f(x, y)=\\frac{1}{2 \\pi \\sigma^2} e^{-\\left[\\left(x-\\mu_x\\right)^2+\\left(y-\\mu_y\\right)^2\\right] /\\left(2 \\sigma^2\\right)}\n",
        "$$\n",
        "\n",
        "with $\\sigma = 50$, $\\mu_{x} = 0$, and $\\mu_{y} = 0.0$.\n",
        "\n"
      ],
      "metadata": {
        "id": "pZI6PIciksTh"
      }
    },
    {
      "cell_type": "markdown",
      "source": [
        "To do so, first we will start by generating a dataset that we will use to evaluate our network on. This will be done by sampling the function on a square grid ranging from -2 to 2."
      ],
      "metadata": {
        "id": "HU1Dwaw_FNHK"
      }
    },
    {
      "cell_type": "code",
      "source": [
        "from scipy.stats import multivariate_normal\n",
        "\n",
        "# Define the gaussian distribution function\n",
        "mux = 0.\n",
        "muy = 0.\n",
        "sigma = 50\n",
        "mean = [mux, muy]\n",
        "cov = [[sigma, 0.0], [0.0, sigma]]\n",
        "var = multivariate_normal(mean=mean, cov=cov)\n",
        "\n",
        "# Number of grid points per axis\n",
        "num_sample_points = 50\n",
        "\n",
        "# Generate range of x and y values\n",
        "x_range = np.linspace(-2, 2., num_sample_points)\n",
        "y_range = np.linspace(-2, 2., num_sample_points)\n",
        "\n",
        "# Generate grid coordinates that will be used to evaluate the gaussian on\n",
        "x_nodes, y_nodes = np.meshgrid(x_range, y_range)\n",
        "nodes = np.column_stack((x_nodes.ravel(), y_nodes.ravel()))\n",
        "\n",
        "# Compute the function over the grid coordinates and store the values\n",
        "ground_truth = np.zeros(len(nodes), dtype=np.float32)\n",
        "for i, node in enumerate(nodes):\n",
        "  gauss_value = var.pdf(node)\n",
        "  ground_truth[i] = gauss_value\n",
        "\n",
        "# Convert to numpy matrix to tensor\n",
        "ground_truth = torch.Tensor(ground_truth)\n"
      ],
      "metadata": {
        "id": "InDWm6zxoTkQ"
      },
      "execution_count": 169,
      "outputs": []
    },
    {
      "cell_type": "markdown",
      "source": [
        "And with this we have our dataset! The 2D-grid input points are stored in the variable `nodes`, while the corresponding gaussian values are stored in `ground_truth`. We can visualize the dataset using `matplotlib` functionalities."
      ],
      "metadata": {
        "id": "_vKDGK9lL7uf"
      }
    },
    {
      "cell_type": "code",
      "source": [
        "import matplotlib.pyplot as plt\n",
        "from matplotlib import cm\n",
        "from matplotlib.ticker import LinearLocator\n",
        "\n",
        "%matplotlib inline\n",
        "\n",
        "def plot_result_surface(x_nodes, y_nodes, z_values):\n",
        "  if isinstance(z_values, torch.Tensor):\n",
        "    z_values = z_values.detach().numpy()\n",
        "\n",
        "  fig, ax = plt.subplots(subplot_kw={\"projection\": \"3d\"})\n",
        "\n",
        "\n",
        "  # Plot the surface.\n",
        "  surf = ax.plot_surface(x_nodes, y_nodes, np.reshape(z_values, x_nodes.shape), cmap=cm.coolwarm,\n",
        "                        linewidth=0, antialiased=False)\n",
        "\n",
        "  plt.show()\n",
        "\n",
        "plot_result_surface(x_nodes, y_nodes, ground_truth)"
      ],
      "metadata": {
        "id": "yy7q3OQiD_uy",
        "colab": {
          "base_uri": "https://localhost:8080/",
          "height": 415
        },
        "outputId": "431358b2-2c34-4d68-e179-f277292ea79e"
      },
      "execution_count": 170,
      "outputs": [
        {
          "output_type": "display_data",
          "data": {
            "text/plain": [
              "<Figure size 640x480 with 1 Axes>"
            ],
            "image/png": "[encoded data removed]"
          },
          "metadata": {}
        }
      ]
    },
    {
      "cell_type": "markdown",
      "source": [
        "\n",
        "To approximate the gaussian distribution, we will use a 2-layer network with hidden dimension of 25."
      ],
      "metadata": {
        "id": "Vb2TrVIxMbZO"
      }
    },
    {
      "cell_type": "markdown",
      "source": [
        "****\n",
        "**Question 2.10**: What should be the number of features of the input and output layer for this problem?"
      ],
      "metadata": {
        "id": "u3bBSzarfJKS"
      }
    },
    {
      "cell_type": "markdown",
      "source": [
        "<font color='green'>Write your answere here</font>\n",
        "\n",
        "for input is 2, one for x and the other is for y, and for output the feature is 1 which represents the density function value given the two arguments x and y"
      ],
      "metadata": {
        "id": "YvMxoEoMfJKT"
      }
    },
    {
      "cell_type": "markdown",
      "source": [
        "****\n",
        "**Task 2.11:** Define a PyTorch Net with the dimensions mentioned above and evalute it on the dataset.\n",
        "*****"
      ],
      "metadata": {
        "id": "2OEFwkSEeWFC"
      }
    },
    {
      "cell_type": "code",
      "source": [
        "#Set the torch seed for reproducibility\n",
        "torch.manual_seed(999)\n",
        "\n",
        "# Initialize Pytorch network\n",
        "########################################################################\n",
        "#                        START OF YOUR CODE                            #\n",
        "########################################################################\n",
        "net = TorchNet(2, 25, 1)\n",
        "########################################################################\n",
        "#                         END OF YOUR CODE                             #\n",
        "########################################################################\n",
        "\n",
        "\n",
        "# Convert the numpy matrices to PyTorch tensors\n",
        "torch_nodes = torch.Tensor(nodes)\n",
        "\n",
        "# Evaluate the network on the grid - Perform forward pass\n",
        "########################################################################\n",
        "#                        START OF YOUR CODE                            #\n",
        "########################################################################\n",
        "prediction = net.forward(torch_nodes)\n",
        "########################################################################\n",
        "#                         END OF YOUR CODE                             #\n",
        "########################################################################\n",
        "\n",
        "print('Shape of the output\\n:', prediction.shape)\n",
        "\n",
        "# Plot the network's prediction\n",
        "plot_result_surface(x_nodes, y_nodes, prediction)"
      ],
      "metadata": {
        "id": "XRM8dK-_NXmV",
        "colab": {
          "base_uri": "https://localhost:8080/",
          "height": 452
        },
        "outputId": "b56bccf5-3ecc-41b8-b525-2f75ca5ba3fc"
      },
      "execution_count": 176,
      "outputs": [
        {
          "output_type": "stream",
          "name": "stdout",
          "text": [
            "Shape of the output\n",
            ": torch.Size([2500, 1])\n"
          ]
        },
        {
          "output_type": "display_data",
          "data": {
            "text/plain": [
              "<Figure size 640x480 with 1 Axes>"
            ],
            "image/png": "[encoded data removed]"
          },
          "metadata": {}
        }
      ]
    },
    {
      "cell_type": "markdown",
      "source": [
        "Disappointingly, the results are far from providing a good approximation of the gaussian function. That is because we have not trained the network yet but we are only looking at the outcome of a random initialization of the weights and bias. Without proper training, neural networks have very poor performance, regardless of the task.\n",
        "\n",
        "Moreover, currently we have no way of addressing how bad our network is at approximating the target function. Therefore, we need to come up with a systematic method of quantifying the error between the ground truth and the network's prediction.\n"
      ],
      "metadata": {
        "id": "l10FiTnUPiYD"
      }
    },
    {
      "cell_type": "markdown",
      "source": [
        "## 2.5 Loss functions\n",
        "\n",
        "Loss functions provide exactly this functionality, i.e. they quantify the error between the ground truth and the prediction. There are many types of loss functions with different properties and suitable for different kind of problems. The most commonly used loss function for regression problems is the **Mean-Square error** defined as:\n",
        "\n",
        "$$\n",
        "\\mathrm{MSE}=\\frac{1}{\\text{n}} \\sum_{i=1}^n\\left(y_i-\\hat{y}_i) \\right)^2\n",
        "$$\n",
        "\n",
        "where $y_{i}$ is the observed data, $\\hat{y}_{i}$ is the prediction and $n$ the number of samples.\n",
        "\n",
        "PyTorch provides definitions of a myriad of loss functions, again saving some time for the user (check the documentation [here](https://pytorch.org/docs/stable/nn.html#loss-functions)).\n",
        "\n",
        "Now we can use the MSE loss to measure how poorly our network is approximating the Gaussian.\n"
      ],
      "metadata": {
        "id": "7mAKMpTI4XnR"
      }
    },
    {
      "cell_type": "code",
      "source": [
        "# Define MSE loss function\n",
        "MSE_loss = torch.nn.MSELoss()\n",
        "\n",
        "# Compute MSE over the ground truth and network prediction\n",
        "loss = MSE_loss.forward(ground_truth, prediction).item()\n",
        "\n",
        "print(f\"Average loss over whole dataset: {loss:.6f}\")"
      ],
      "metadata": {
        "colab": {
          "base_uri": "https://localhost:8080/"
        },
        "id": "UIL_MU3M6hS2",
        "outputId": "ed9029e2-50b5-44d3-ae9b-9883018f62e2"
      },
      "execution_count": 177,
      "outputs": [
        {
          "output_type": "stream",
          "name": "stdout",
          "text": [
            "Average loss over whole dataset: 0.138171\n"
          ]
        }
      ]
    },
    {
      "cell_type": "markdown",
      "source": [
        "Let's see if we can improve that using a simple training procedure.\n",
        "\n"
      ],
      "metadata": {
        "id": "dFuqGXC66hnl"
      }
    },
    {
      "cell_type": "markdown",
      "source": [
        "## 2.6 First steps toward training\n",
        "We can work our way through a simple training loop in which the network parameters are randomly updated whenever the network performs worse than a desired threshold level for the loss function. That means we will repeat the following training steps:\n",
        "\n",
        "1.   Compute forward pass of the network.\n",
        "2.   Compute loss between prediction and ground truth values.\n",
        "3.   If the loss is below a certain threshold, stop training.\n",
        "4.   Otherwise, randomly update the network's parameters.\n"
      ],
      "metadata": {
        "id": "KelEfv0w6iPw"
      }
    },
    {
      "cell_type": "markdown",
      "source": [
        "****\n",
        "**Task 2.12:** Complete the code below to implement the training loop.\n",
        "****"
      ],
      "metadata": {
        "id": "9ZeIVgVzn-ak"
      }
    },
    {
      "cell_type": "code",
      "source": [
        "# Define the error threshhold\n",
        "epsilon = 1e-5\n",
        "\n",
        "# Maximum number of training iterations\n",
        "iter_num = 0.\n",
        "max_iters = 50\n",
        "\n",
        "\n",
        "while loss > epsilon and iter_num < max_iters:\n",
        "  iter_num += 1\n",
        "\n",
        "  # Update network's weights and biases by drawing from a normal distributions\n",
        "  for layer in net.children():\n",
        "    if hasattr(layer, 'reset_parameters'):\n",
        "        layer.weight = torch.nn.Parameter(0.025 * (-2 * torch.rand(layer.weight.shape) + 1))\n",
        "        layer.bias = torch.nn.Parameter(0.05 * (-2 * torch.rand(layer.bias.shape) + 1))\n",
        "\n",
        "    # Evaluate the network on the grid\n",
        "    ########################################################################\n",
        "    #                        START OF YOUR CODE                            #\n",
        "    ########################################################################\n",
        "    prediction = net.forward(torch_nodes)\n",
        "    ########################################################################\n",
        "    #                         END OF YOUR CODE                             #\n",
        "    ########################################################################\n",
        "\n",
        "    # Compute the loss\n",
        "    ########################################################################\n",
        "    #                        START OF YOUR CODE                            #\n",
        "    ########################################################################\n",
        "    loss = MSE_loss.forward(ground_truth, prediction).item()\n",
        "    ########################################################################\n",
        "    #                         END OF YOUR CODE                             #\n",
        "    ########################################################################\n",
        "\n",
        "  print(f\"Iteration: {iter_num}, Loss: {loss:.8f}\")\n",
        "\n",
        "# Plot the network's prediction\n",
        "plot_result_surface(x_nodes, y_nodes, prediction)"
      ],
      "metadata": {
        "id": "5tSOrobV9NVz",
        "colab": {
          "base_uri": "https://localhost:8080/",
          "height": 544
        },
        "outputId": "8529ec89-3b38-482a-d1ab-ee8df6a39e13"
      },
      "execution_count": 178,
      "outputs": [
        {
          "output_type": "stream",
          "name": "stdout",
          "text": [
            "Iteration: 1.0, Loss: 0.00003820\n",
            "Iteration: 2.0, Loss: 0.00285843\n",
            "Iteration: 3.0, Loss: 0.00087207\n",
            "Iteration: 4.0, Loss: 0.00124587\n",
            "Iteration: 5.0, Loss: 0.00080949\n",
            "Iteration: 6.0, Loss: 0.00152109\n",
            "Iteration: 7.0, Loss: 0.00000404\n"
          ]
        },
        {
          "output_type": "display_data",
          "data": {
            "text/plain": [
              "<Figure size 640x480 with 1 Axes>"
            ],
            "image/png": "[encoded data removed]"
          },
          "metadata": {}
        }
      ]
    },
    {
      "cell_type": "markdown",
      "source": [
        "While the result is still not perfect, we can see that is much better than the initial one, even without applying any smart learning rule.\n",
        "\n",
        "In the next labs, we will see how to implement learning algorithms to update the network parameters that will make the networks coverge much faster and achieve substantially better results.\n"
      ],
      "metadata": {
        "id": "uOorYgHMnbBu"
      }
    },
    {
      "cell_type": "markdown",
      "source": [
        "**That's all for now, see you in the next lab!**"
      ],
      "metadata": {
        "id": "757s0YUzo9gu"
      }
    }
  ]
}